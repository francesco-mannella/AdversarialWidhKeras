{
  "nbformat": 4,
  "nbformat_minor": 0,
  "metadata": {
    "colab": {
      "name": "AAE_labelled.ipynb",
      "version": "0.3.2",
      "provenance": [],
      "collapsed_sections": [],
      "include_colab_link": true
    },
    "kernelspec": {
      "name": "python3",
      "display_name": "Python 3"
    },
    "accelerator": "GPU"
  },
  "cells": [
    {
      "cell_type": "markdown",
      "metadata": {
        "id": "view-in-github",
        "colab_type": "text"
      },
      "source": [
        "<a href=\"https://colab.research.google.com/github/francesco-mannella/AdversarialWidhKeras/blob/master/notebooks/AAE_labelled.ipynb\" target=\"_parent\"><img src=\"https://colab.research.google.com/assets/colab-badge.svg\" alt=\"Open In Colab\"/></a>"
      ]
    },
    {
      "cell_type": "markdown",
      "metadata": {
        "id": "fb6FiTPn3XS8",
        "colab_type": "text"
      },
      "source": [
        "#Imports"
      ]
    },
    {
      "cell_type": "code",
      "metadata": {
        "id": "ZN0liLYxuWwU",
        "colab_type": "code",
        "colab": {}
      },
      "source": [
        "#!/usr/bin/env python\n",
        "# -*- coding: utf-8 -*-\n",
        "%matplotlib inline\n",
        "\n",
        "from __future__ import division, print_function, absolute_import\n",
        "\n",
        "import numpy as np\n",
        "import tensorflow as tf\n",
        "import tensorflow.keras as keras\n",
        "\n",
        "seed = 1\n",
        "rng = np.random.RandomState(seed)\n",
        "from tensorflow import set_random_seed\n",
        "set_random_seed(seed)"
      ],
      "execution_count": 0,
      "outputs": []
    },
    {
      "cell_type": "code",
      "metadata": {
        "id": "Ca0WuCyfzbtr",
        "colab_type": "code",
        "outputId": "5754779d-737e-4a95-e8ad-5e9b406499bc",
        "colab": {
          "base_uri": "https://localhost:8080/",
          "height": 35
        }
      },
      "source": [
        "from keras.datasets import mnist\n",
        "\n",
        "(x_train, y_train), (_, _) = mnist.load_data()\n",
        "x_train = x_train.astype('float32') / 255.\n",
        "x_train = 2*x_train - 1\n"
      ],
      "execution_count": 0,
      "outputs": [
        {
          "output_type": "stream",
          "text": [
            "Using TensorFlow backend.\n"
          ],
          "name": "stderr"
        }
      ]
    },
    {
      "cell_type": "markdown",
      "metadata": {
        "id": "2sIZ5S03zvlW",
        "colab_type": "text"
      },
      "source": [
        "#Build the graph\n",
        "We build the Adversarial Autoencoder network. It is made of three networks: the encoder, the decoder and the discriminator.\n",
        "Those networks are combined to run \n",
        "* an autoencoder network (**images**->**encoder**->**latents**->**decoder**->**generated_images**)\n",
        "* a discriminator network (\n",
        "    * **latents**->**discriminator**->**D_Probs**\n",
        "    * **images**->**encoder**->**latents**->**discriminator**->**G_Propbs**\n",
        "    \n",
        "    )\n",
        "* a generator network (**images**->**encoder**->**latents**->**discriminator**->**G_Probs**)"
      ]
    },
    {
      "cell_type": "code",
      "metadata": {
        "id": "Ssk5nxwYzyzA",
        "colab_type": "code",
        "colab": {}
      },
      "source": [
        "from tensorflow.keras.optimizers import Adam\n",
        "\n",
        "class Autoencoder:\n",
        "    def __init__(self, latent_num, dropout, w_stddev, autoencoder_rl, \n",
        "                 discriminator_rl, generator_rl):\n",
        "\n",
        "        self.autoencoder_optimizer = Adam(autoencoder_rl)\n",
        "        self.discriminator_optimizer = Adam(discriminator_rl)\n",
        "        self.generator_optimizer = Adam(generator_rl)\n",
        "\n",
        "        def w_init(stddev):\n",
        "            return keras.initializers.RandomNormal(mean=0.0, stddev=stddev)\n",
        "\n",
        "        def dense(units, **kargs):\n",
        "            return keras.layers.Dense(\n",
        "                units=units,\n",
        "                kernel_initializer=w_init(w_stddev),\n",
        "                bias_initializer=w_init(w_stddev),\n",
        "                **kargs)\n",
        "\n",
        "        # encoder \n",
        "        self.encoder = keras.models.Sequential(name=\"encoder_net\")\n",
        "        self.encoder.add(keras.layers.Flatten())\n",
        "        self.encoder.add(dense(1024, name=\"dL1\"))\n",
        "        self.encoder.add(keras.layers.ReLU())\n",
        "        self.encoder.add(dense(1024, name=\"dL2\"))\n",
        "        self.encoder.add(keras.layers.ReLU())\n",
        "        self.encoder.add(dense(latent_num, name=\"encoded\"))\n",
        "\n",
        "        # decoder\n",
        "        self.decoder = keras.models.Sequential(name=\"decoder_net\")\n",
        "        self.decoder.add(keras.layers.Input(shape=(latent_num,)))\n",
        "        self.decoder.add(dense(1024, name=\"gL1\"))\n",
        "        self.decoder.add(keras.layers.ReLU())\n",
        "        self.decoder.add(dense(1024,  name=\"gL2\"))\n",
        "        self.decoder.add(keras.layers.ReLU())\n",
        "        self.decoder.add(dense(28*28,  name=\"decoded\"))\n",
        "        self.decoder.add(keras.layers.Reshape((28, 28), name=\"unflattened_decoded\"))\n",
        "\n",
        "        # discriminator \n",
        "        self.discriminator = keras.models.Sequential(name=\"discriminator_net\")\n",
        "        self.discriminator.add(keras.layers.Input(shape=(latent_num + 11,)))\n",
        "        self.discriminator.add(keras.layers.Dropout(dropout))\n",
        "        self.discriminator.add(dense(1024, name=\"dL1\"))\n",
        "        self.discriminator.add(keras.layers.ReLU())\n",
        "        self.discriminator.add(keras.layers.Dropout(dropout))\n",
        "        self.discriminator.add(dense(1024, name=\"dL2\"))\n",
        "        self.discriminator.add(keras.layers.ReLU())\n",
        "        self.discriminator.add(dense(1, activation=\"sigmoid\", name=\"prob\"))\n",
        "\n",
        "        # reconstruction model\n",
        "        img_input = keras.layers.Input(shape=(28, 28))\n",
        "        encoded = self.encoder(img_input)\n",
        "        decoded = self.decoder(encoded)\n",
        "        self.autoencoder_model = keras.models.Model(name=\"autoencoder\",\n",
        "            inputs=img_input, outputs=decoded)\n",
        "        self.autoencoder_model.compile(optimizer=self.autoencoder_optimizer,\n",
        "                                    loss='mse')\n",
        "\n",
        "        # discriminator model\n",
        "        labels = keras.layers.Input(shape=(11,))\n",
        "        latents = keras.layers.Input(shape=(latent_num,))\n",
        "        labelled_latents = tf.concat((latents, labels), axis=1)\n",
        "        self.discriminator_model = keras.models.Model(name=\"discriminator\",\n",
        "            inputs=[latents, labels], outputs=self.discriminator(labelled_latents))\n",
        "        self.discriminator_model.compile(optimizer=self.discriminator_optimizer,\n",
        "                                    loss='binary_crossentropy')\n",
        "        \n",
        "        # generator model\n",
        "        self.discriminator.trainable = False\n",
        "        generator_labelled_latents = tf.concat((encoded, labels), axis=1)\n",
        "        self.generator_model = keras.models.Model(name=\"generator\",\n",
        "            inputs=[img_input, labels], outputs=self.discriminator(generator_labelled_latents))\n",
        "        self.generator_model.compile(optimizer=self.generator_optimizer,\n",
        "                                loss='binary_crossentropy')\n",
        "        "
      ],
      "execution_count": 0,
      "outputs": []
    },
    {
      "cell_type": "markdown",
      "metadata": {
        "id": "F3Bto5ZZ3pPI",
        "colab_type": "text"
      },
      "source": [
        "#Manage scheduling"
      ]
    },
    {
      "cell_type": "code",
      "metadata": {
        "id": "63se06Xj18dA",
        "colab_type": "code",
        "colab": {}
      },
      "source": [
        "def Sigma(l1=1.0, l2=1.0, alpha=0.0): \n",
        "    c, s = np.cos(alpha), np.sin(alpha) \n",
        "    rot = np.array([[c, -s],[s, c]])\n",
        "    L = np.eye(2)*[l1, l2]\n",
        "    return np.matmul(rot, np.matmul(L, rot.T)) \n",
        "\n",
        "def SigmaNoise(std, ratio, alpha):\n",
        "    n = 1 if np.isscalar(alpha) else len(alpha)\n",
        "    return np.vstack([rng.multivariate_normal(np.zeros(2), \n",
        "                            Sigma(std, ratio*std, a)) for a in alpha])    \n",
        "    \n",
        "\n",
        "def scheduling():\n",
        "    img_indices = np.arange(x_train.shape[0])\n",
        "    num_imgs = len(img_indices)\n",
        "    batch_num = num_imgs//batch_size\n",
        "    \n",
        "    def noise(shape):\n",
        "        if gaussian_prior == True:\n",
        "            x = rng.normal(0,1, shape)\n",
        "        else:\n",
        "            x = rng.uniform(-1,1, shape)\n",
        "        return x\n",
        "\n",
        "    def get_test(dim):\n",
        "        x = np.linspace(-test_lim, test_lim, dim)\n",
        "        X, Y = np.meshgrid(x, x)\n",
        "        return np.vstack((X.ravel(), Y.ravel())).T\n",
        "    test_dim = 16\n",
        "    test = get_test(test_dim)\n",
        "\n",
        "    return img_indices, batch_num, test, noise"
      ],
      "execution_count": 0,
      "outputs": []
    },
    {
      "cell_type": "code",
      "metadata": {
        "colab_type": "code",
        "id": "OukJRJaye5xJ",
        "colab": {}
      },
      "source": [
        "def test_priors():\n",
        "    curr_labels = y_train\n",
        "    angles = 2*np.pi*np.arange(10.0)/10.0\n",
        "    p_means = np.vstack((radius*np.cos(angles), \n",
        "                                                radius*np.sin(angles))).T\n",
        "    curr_prior_means = p_means[curr_labels]\n",
        "    curr_angles = angles[curr_labels]\n",
        "    curr_prior_std = prior_std #+ np.exp(-decay)   \n",
        "\n",
        "    latents = SigmaNoise(curr_prior_std, ratio, curr_angles) + curr_prior_means\n",
        "\n",
        "\n",
        "    import matplotlib.pyplot as plt\n",
        "    from IPython.display import clear_output, display\n",
        "    import matplotlib.gridspec as gridspec\n",
        "    cols = np.expand_dims(plt.cm.hsv(np.linspace(0, 1, 10)),1)\n",
        "    plt.subplot(111, aspect=\"equal\")\n",
        "    for x in range(10):\n",
        "        plt.scatter(*latents[curr_labels==x].T, alpha=0.2, s=10, c=cols[x])\n",
        "    plt.xlim([-test_lim*2, test_lim*2])\n",
        "    plt.ylim([-test_lim*2, test_lim*2])\n",
        "    plt.show()"
      ],
      "execution_count": 0,
      "outputs": []
    },
    {
      "cell_type": "markdown",
      "metadata": {
        "id": "2b60cKeX30bT",
        "colab_type": "text"
      },
      "source": [
        "#Init plots "
      ]
    },
    {
      "cell_type": "code",
      "metadata": {
        "id": "_qDrfy1z3O-R",
        "colab_type": "code",
        "cellView": "both",
        "colab": {}
      },
      "source": [
        "import matplotlib.pyplot as plt\n",
        "from IPython.display import clear_output, display\n",
        "import matplotlib.gridspec as gridspec\n",
        "from PIL import Image\n",
        "import glob, io\n",
        "\n",
        "class Plotter:\n",
        "    def init_plots(self):\n",
        "        \n",
        "        self.count = 0\n",
        "\n",
        "        self.fig = plt.figure(figsize=(9,6), constrained_layout=True)\n",
        "        gs = self.fig.add_gridspec(6, 6)\n",
        "\n",
        "        ax1 = self.fig.add_subplot(gs[:3,:])\n",
        "        ax1.set_title(\"Losses\")\n",
        "        ax1.set_ylabel(\"log likeliwood\")\n",
        "        ax1.set_xlabel(\"epocs\")\n",
        "        self.rlossl, = ax1.plot(0,0, c=\"blue\")\n",
        "        self.dlossl, = ax1.plot(0,0, c=\"red\")\n",
        "        self.alossl, = ax1.plot(0,0, c=\"green\")\n",
        "        self.rlossl.set_label(\"rloss\")\n",
        "        self.dlossl.set_label(\"dloss\")\n",
        "        self.alossl.set_label(\"aloss\")\n",
        "        ax1.legend()\n",
        "        ax1.set_xlim([0, num_epochs])\n",
        "        ax1.set_ylim([0, rlim])\n",
        "\n",
        "        ax2 = self.fig.add_subplot(gs[3:,2:4], aspect=\"equal\")\n",
        "        ax2.set_title(\"generated digits\")\n",
        "        ax2.set_ylabel(\"latent unit 1\")\n",
        "        ax2.set_xlabel(\"latent unit 0\")\n",
        "        self.digits = ax2.imshow(np.zeros([2, 2]), vmin=-1, vmax=1)\n",
        "        ax2.set_axis_off()\n",
        "\n",
        "        ax3 = self.fig.add_subplot(gs[3:,4:], aspect=\"equal\")\n",
        "        ax3.set_title(\"Real digits (latent space)\")\n",
        "        ax3.set_ylabel(\"latent unit 1\")\n",
        "        ax3.set_xlabel(\"latent unit 0\")\n",
        "        cols = plt.cm.hsv(np.linspace(0, 1, 10))\n",
        "        self.points = []\n",
        "        self.labels = []\n",
        "        for k in range(10):\n",
        "            self.points.append(ax3.scatter(0,0, color=cols[k], s=5, alpha=0.05))\n",
        "            self.labels.append(ax3.text(0,0,\"%d\"%k, color=cols[k]))\n",
        "        ax3.set_xlim([-2*test_lim, 2*test_lim])\n",
        "        ax3.set_ylim([-2*test_lim, 2*test_lim])\n",
        "    \n",
        "        self.ppoints = []\n",
        "        ax4 = self.fig.add_subplot(gs[3:,:2], aspect=\"equal\")\n",
        "        ax4.set_title(\"Generated prior sample (latent space)\")\n",
        "        ax4.set_ylabel(\"latent unit 1\")\n",
        "        ax4.set_xlabel(\"latent unit 0\")\n",
        "        for k in range(10):\n",
        "            self.ppoints.append(ax4.scatter(0,0, color=cols[k], s=5))   \n",
        "        ax4.set_xlim([-2*test_lim, 2*test_lim])\n",
        "        ax4.set_ylim([-2*test_lim, 2*test_lim])\n",
        "\n",
        "        self.fig.tight_layout()\n",
        "        clear_output()\n",
        "        display(plt.gcf())    \n",
        "\n",
        "    def update_plots(self, epoch, ae,  data):\n",
        "\n",
        "        rloss, dloss, aloss, test = data\n",
        "\n",
        "        test_dim = int(np.sqrt(test.shape[0]))\n",
        "\n",
        "        self.rlossl.set_data(np.arange(epoch+1), np.hstack(rloss)*rlim)\n",
        "        self.dlossl.set_data(np.arange(epoch+1), dloss)\n",
        "        self.alossl.set_data(np.arange(epoch+1), aloss)\n",
        "\n",
        "        test_gen_batch = ae.decoder.predict(test).reshape(test_dim, test_dim, 28,28)\n",
        "        self.digits.set_data(np.vstack([ np.hstack([img for img in test_gen_row])\n",
        "            for test_gen_row in test_gen_batch[::-1]]))\n",
        "\n",
        "        test_latents = ae.encoder.predict(x_train)\n",
        "\n",
        "        for k in range(10):\n",
        "            digit_latents = test_latents[np.where(y_train==k)[0]]\n",
        "            self.points[k].set_offsets(digit_latents)\n",
        "            self.labels[k].set_x(prior_means[k, 0])\n",
        "            self.labels[k].set_y(prior_means[k, 1])\n",
        "        \n",
        "        plabels = other_params.labels\n",
        "        for k in range(10):\n",
        "            platents = other_params.latents[plabels==k,...]\n",
        "            self.ppoints[k].set_offsets(platents)\n",
        "\n",
        "        clear_output()\n",
        "        print(\"epoch: %-10d\\nrloss: %-10.7f  dloss: %-10.7f aloss: %-10.7f\" % (\n",
        "            epoch, rloss[-1], dloss[-1], aloss[-1]))\n",
        "        display(plt.gcf())\n",
        "\n",
        "        self.fig.savefig(\"aae-%06d.png\"%self.count)\n",
        "        self.count += 1\n",
        "\n",
        "        \n",
        "        # Open all the frames\n",
        "        image_names = sorted(glob.glob(\"aae*.png\"))\n",
        "        \n",
        "        if len(image_names) > 1:\n",
        "            images = []\n",
        "\n",
        "            #load frames into a list\n",
        "            for img_name in image_names:\n",
        "                with open(img_name, \"rb\") as f:\n",
        "                    frame = Image.open(io.BytesIO(f.read()))\n",
        "                images.append(frame)\n",
        "            \n",
        "            #save frames as an animated GIF\n",
        "            images[0].save('aae.gif',\n",
        "                    save_all=True,\n",
        "                    append_images=images[1:],\n",
        "                    duration=500,\n",
        "                    loop=0)\n",
        "plotter = Plotter()"
      ],
      "execution_count": 0,
      "outputs": []
    },
    {
      "cell_type": "markdown",
      "metadata": {
        "id": "RJYW6gn64KRE",
        "colab_type": "text"
      },
      "source": [
        "#Train"
      ]
    },
    {
      "cell_type": "code",
      "metadata": {
        "id": "Zj3ATQIfICsN",
        "colab_type": "code",
        "colab": {}
      },
      "source": [
        "from keras.utils.np_utils import to_categorical   \n",
        "\n",
        "def run(prior_means):\n",
        "\n",
        "    ae = Autoencoder(latent_num, dropout, w_stddev, \n",
        "                    autoencoder_rl, discriminator_rl, generator_rl)\n",
        "\n",
        "    plotter.init_plots()\n",
        "    img_indices, batch_num, test, noise = scheduling()\n",
        "\n",
        "    rloss = []\n",
        "    dloss = []\n",
        "    aloss = []\n",
        "    for epoch in range(num_epochs):\n",
        "        rng.shuffle(img_indices)\n",
        "        train_imgs = x_train[img_indices,...]\n",
        "        train_labels = y_train[img_indices]\n",
        "        epoch_rloss = [] \n",
        "        epoch_dloss = [] \n",
        "        epoch_aloss = [] \n",
        "\n",
        "        for batch in range(batch_num):\n",
        "            \n",
        "            curr_rloss, curr_aloss, curr_dloss = [0, 0, 0]\n",
        "\n",
        "            real_images = train_imgs[batch*batch_size:(batch + 1)*batch_size]\n",
        "            \n",
        "            discr_batch_size = int(batch_size*batch_props[1])\n",
        "            gen_batch_size = int(batch_size*batch_props[2])\n",
        "            ae_batch_size = batch_size - (discr_batch_size + gen_batch_size)\n",
        "         \n",
        "            autoencoder_images = real_images[:ae_batch_size]\n",
        "            autoencoder_noise = ae_noise*rng.randn(*autoencoder_images.shape)\n",
        "            curr_rloss = ae.autoencoder_model.train_on_batch(\n",
        "                    autoencoder_images + autoencoder_noise,\n",
        "                    autoencoder_images)\n",
        "\n",
        "            #-----------------------\n",
        "            curr_labels = train_labels[ae_batch_size:(ae_batch_size + discr_batch_size)]\n",
        "            adversarial_images = real_images[ae_batch_size:(ae_batch_size + discr_batch_size)] \n",
        "            adversarial_latents = ae.encoder.predict(adversarial_images)\n",
        "            adversarial_bins = to_categorical(curr_labels, 11)         \n",
        "            #-----------------------\n",
        "            decay = epoch/(decay_coeff*num_epochs)\n",
        "            current_radius = radius *(1.0 - np.exp(-decay))\n",
        "            angles = 2*np.pi*np.arange(10.0)/10.0\n",
        "            prior_means *= 0; prior_means += np.vstack((current_radius*np.cos(angles), current_radius*np.sin(angles))).T\n",
        "            prior_labels = np.random.randint(0, 10, curr_labels.shape)\n",
        "            curr_prior_means = prior_means[prior_labels]\n",
        "            curr_angles = angles[prior_labels]\n",
        "            curr_prior_std = prior_std #+ np.exp(-decay)          \n",
        "            discriminator_latents = SigmaNoise(curr_prior_std, ratio, curr_angles) + curr_prior_means\n",
        "            discriminator_bins =  to_categorical(prior_labels, 11)\n",
        "            other_params.latents = discriminator_latents\n",
        "            other_params.labels = prior_labels\n",
        "            #-----------------------\n",
        "            curr_dloss = ae.discriminator_model.train_on_batch(\n",
        "                   [np.vstack([discriminator_latents, adversarial_latents]), \n",
        "                    np.vstack([discriminator_bins, adversarial_bins])],\n",
        "                    np.hstack([np.ones(discr_batch_size), np.zeros(discr_batch_size)]))\n",
        "            \n",
        "            curr_labels = train_labels[gen_batch_size:(gen_batch_size + gen_batch_size)]\n",
        "            generator_images = real_images[gen_batch_size:(gen_batch_size + gen_batch_size)] \n",
        "            generator_labels = to_categorical(curr_labels, 11)\n",
        "            curr_aloss = ae.generator_model.train_on_batch(\n",
        "                (generator_images, generator_labels), \n",
        "                np.ones(gen_batch_size))\n",
        "            \n",
        "            epoch_rloss.append(curr_rloss)\n",
        "            epoch_dloss.append(curr_dloss)\n",
        "            epoch_aloss.append(curr_aloss)\n",
        "            \n",
        "        rloss.append(np.mean(epoch_rloss))\n",
        "        dloss.append(np.mean(epoch_dloss))\n",
        "        aloss.append(np.mean(epoch_aloss))\n",
        "        \n",
        "        if epoch%epochs_to_show == 0:    \n",
        "            plotter.update_plots(epoch, ae, [rloss, dloss, aloss, test])\n",
        "            print('epochs: ', end='')            \n",
        "        print(epoch, ' ', end='')\n",
        "    \n",
        "    plotter.update_plots(epoch, ae, [rloss, dloss, aloss, test])"
      ],
      "execution_count": 0,
      "outputs": []
    },
    {
      "cell_type": "markdown",
      "metadata": {
        "colab_type": "text",
        "id": "QiXOVcB5v1FQ"
      },
      "source": [
        "#Session"
      ]
    },
    {
      "cell_type": "markdown",
      "metadata": {
        "id": "BVjTRz2yl53D",
        "colab_type": "text"
      },
      "source": [
        ""
      ]
    },
    {
      "cell_type": "code",
      "metadata": {
        "id": "hTwzGx1c2NdY",
        "colab_type": "code",
        "outputId": "86cf1d5f-767e-43d0-c3c5-581022eb4c2a",
        "cellView": "both",
        "colab": {
          "base_uri": "https://localhost:8080/",
          "height": 309
        }
      },
      "source": [
        "dropout = 0.3\n",
        "ae_noise = 0.0\n",
        "latent_num = 2\n",
        "w_stddev = 0.02\n",
        "autoencoder_rl = 1e-5\n",
        "discriminator_rl = 1e-5\n",
        "generator_rl = 1e-5\n",
        "\n",
        "num_epochs  = 200\n",
        "batch_size = 150\n",
        "batch_props = [.33, .33, .33]\n",
        "epochs_to_show = 2\n",
        "gaussian_prior = True\n",
        "prior_std = 0.01\n",
        "ratio = 20.\n",
        "radius = 4.0\n",
        "decay_coeff = 0.3\n",
        "prior_means = np.zeros([10, 2])\n",
        "\n",
        "class other_params: pass\n",
        "\n",
        "rlim = 2.5\n",
        "test_lim = 5\n",
        "\n",
        "print(\"\"\"\n",
        "dropout: {:}\n",
        "ae_noise: {:}\n",
        "latent_num: {:}\n",
        "w_stddev: {:}\n",
        "autoencoder_rl: {:2.0e}\n",
        "discriminator_rl: {:2.0e}\n",
        "generator_rl: {:2.0e}\n",
        "\n",
        "num_epochs: {:}  \n",
        "batch_size: {:}\n",
        "batch_props: {:}\n",
        "epochs_to_show: {:}\n",
        "gaussian_prior: {:}\n",
        "prior_std: {:6.4f}\n",
        "\"\"\".format(dropout, ae_noise, latent_num, w_stddev,\n",
        "    autoencoder_rl, discriminator_rl, generator_rl, num_epochs,  batch_size,\n",
        "    batch_props,  epochs_to_show,  gaussian_prior, prior_std))"
      ],
      "execution_count": 0,
      "outputs": [
        {
          "output_type": "stream",
          "text": [
            "\n",
            "dropout: 0.3\n",
            "ae_noise: 0.0\n",
            "latent_num: 2\n",
            "w_stddev: 0.02\n",
            "autoencoder_rl: 1e-05\n",
            "discriminator_rl: 1e-05\n",
            "generator_rl: 1e-05\n",
            "\n",
            "num_epochs: 200  \n",
            "batch_size: 150\n",
            "batch_props: [0.33, 0.33, 0.33]\n",
            "epochs_to_show: 2\n",
            "gaussian_prior: True\n",
            "prior_std: 0.0100\n",
            "\n"
          ],
          "name": "stdout"
        }
      ]
    },
    {
      "cell_type": "code",
      "metadata": {
        "id": "GtHrBYIDiHDL",
        "colab_type": "code",
        "outputId": "bf6ecf76-9507-41f0-f61b-cb0bb984a98a",
        "colab": {
          "base_uri": "https://localhost:8080/",
          "height": 269
        }
      },
      "source": [
        "test_priors()"
      ],
      "execution_count": 0,
      "outputs": [
        {
          "output_type": "display_data",
          "data": {
            "image/png": "[encoded data removed]",
            "text/plain": [
              "<Figure size 432x288 with 1 Axes>"
            ]
          },
          "metadata": {
            "tags": []
          }
        }
      ]
    },
    {
      "cell_type": "code",
      "metadata": {
        "id": "ZiBjHali3ubp",
        "colab_type": "code",
        "outputId": "35107fd9-5e9e-4243-d861-1845fae045cc",
        "cellView": "both",
        "colab": {
          "base_uri": "https://localhost:8080/",
          "height": 485
        }
      },
      "source": [
        "run(prior_means)"
      ],
      "execution_count": 0,
      "outputs": [
        {
          "output_type": "stream",
          "text": [
            "epoch: 12        \n",
            "rloss: 0.2300625   dloss: 0.6082072  aloss: 0.8561353 \n"
          ],
          "name": "stdout"
        },
        {
          "output_type": "display_data",
          "data": {
            "image/png": "[encoded data removed]",
            "text/plain": [
              "<Figure size 648x432 with 4 Axes>"
            ]
          },
          "metadata": {
            "tags": []
          }
        },
        {
          "output_type": "stream",
          "text": [
            "epochs: 12  "
          ],
          "name": "stdout"
        }
      ]
    }
  ]
}