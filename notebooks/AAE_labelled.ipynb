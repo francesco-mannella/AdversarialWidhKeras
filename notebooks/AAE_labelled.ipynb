{
 "cells": [
  {
   "cell_type": "markdown",
   "metadata": {
    "colab_type": "text",
    "id": "view-in-github"
   },
   "source": [
    "<a href=\"https://colab.research.google.com/github/francesco-mannella/AdversarialWidhKeras/blob/master/notebooks/AAE_labelled.ipynb\" target=\"_parent\"><img src=\"https://colab.research.google.com/assets/colab-badge.svg\" alt=\"Open In Colab\"/></a>"
   ]
  },
  {
   "cell_type": "markdown",
   "metadata": {
    "colab_type": "text",
    "id": "fb6FiTPn3XS8"
   },
   "source": [
    "# Imports"
   ]
  },
  {
   "cell_type": "code",
   "execution_count": 1,
   "metadata": {
    "ExecuteTime": {
     "end_time": "2019-09-16T21:21:10.073478Z",
     "start_time": "2019-09-16T21:21:08.655505Z"
    },
    "colab": {},
    "colab_type": "code",
    "id": "ZN0liLYxuWwU"
   },
   "outputs": [
    {
     "name": "stdout",
     "output_type": "stream",
     "text": [
      "seed: 1902831325\n"
     ]
    }
   ],
   "source": [
    "#!/usr/bin/env python\n",
    "# -*- coding: utf-8 -*-\n",
    "%matplotlib inline\n",
    "\n",
    "import os\n",
    "import numpy as np\n",
    "import tensorflow as tf\n",
    "import tensorflow.keras as keras\n",
    "\n",
    "# set the seed for random numbers generation\n",
    "current_seed = np.frombuffer(os.urandom(4), dtype=np.uint32)[0]\n",
    "print(\"seed: %d\" % current_seed)\n",
    "\n",
    "rng = np.random.RandomState(current_seed)\n",
    "from tensorflow import set_random_seed\n",
    "set_random_seed(current_seed)"
   ]
  },
  {
   "cell_type": "code",
   "execution_count": 2,
   "metadata": {
    "ExecuteTime": {
     "end_time": "2019-09-16T21:21:10.456259Z",
     "start_time": "2019-09-16T21:21:10.075103Z"
    },
    "colab": {
     "base_uri": "https://localhost:8080/",
     "height": 35
    },
    "colab_type": "code",
    "id": "Ca0WuCyfzbtr",
    "outputId": "5754779d-737e-4a95-e8ad-5e9b406499bc"
   },
   "outputs": [
    {
     "name": "stderr",
     "output_type": "stream",
     "text": [
      "Using TensorFlow backend.\n"
     ]
    }
   ],
   "source": [
    "from keras.datasets import mnist\n",
    "\n",
    "(x_train, y_train), (_, _) = mnist.load_data()\n",
    "x_train = x_train.astype('float32') / 255.\n",
    "x_train = 2*x_train - 1"
   ]
  },
  {
   "cell_type": "code",
   "execution_count": 3,
   "metadata": {
    "ExecuteTime": {
     "end_time": "2019-09-16T21:21:10.692990Z",
     "start_time": "2019-09-16T21:21:10.457484Z"
    },
    "code_folding": []
   },
   "outputs": [],
   "source": [
    "!mkdir -p /tmp/imgs\n",
    "!rm /tmp/imgs/* 2> /dev/null|| echo \"imgs already cleaned\""
   ]
  },
  {
   "cell_type": "markdown",
   "metadata": {
    "colab_type": "text",
    "id": "2sIZ5S03zvlW"
   },
   "source": [
    "#Build the graph\n",
    "We build the Adversarial Autoencoder network. It is made of three networks: the encoder, the decoder and the discriminator.\n",
    "Those networks are combined to run \n",
    "* an autoencoder network (**images**->**encoder**->**latents**->**decoder**->**generated_images**)\n",
    "* a discriminator network (\n",
    "    * **latents**->**discriminator**->**D_Probs**\n",
    "    * **images**->**encoder**->**latents**->**discriminator**->**G_Propbs**\n",
    "    \n",
    "    )\n",
    "* a generator network (**images**->**encoder**->**latents**->**discriminator**->**G_Probs**)"
   ]
  },
  {
   "cell_type": "code",
   "execution_count": 4,
   "metadata": {
    "ExecuteTime": {
     "end_time": "2019-09-16T21:21:10.766480Z",
     "start_time": "2019-09-16T21:21:10.695073Z"
    },
    "colab": {},
    "colab_type": "code",
    "id": "Ssk5nxwYzyzA"
   },
   "outputs": [],
   "source": [
    "from tensorflow.keras.optimizers import Adam\n",
    "\n",
    "class Autoencoder:\n",
    "    def __init__(self, latent_num, dropout, w_stddev, autoencoder_rl, \n",
    "                 discriminator_rl, generator_rl):\n",
    "\n",
    "        self.autoencoder_optimizer = Adam(autoencoder_rl)\n",
    "        self.discriminator_optimizer = Adam(discriminator_rl)\n",
    "        self.generator_optimizer = Adam(generator_rl)\n",
    "\n",
    "        def w_init(stddev):\n",
    "            return keras.initializers.RandomNormal(mean=0.0, stddev=stddev)\n",
    "\n",
    "        def dense(units, **kargs):\n",
    "            return keras.layers.Dense(\n",
    "                units=units,\n",
    "                kernel_initializer=w_init(w_stddev),\n",
    "                bias_initializer=w_init(w_stddev),\n",
    "                **kargs)\n",
    "\n",
    "        # encoder \n",
    "        self.encoder = keras.models.Sequential(name=\"encoder_net\")\n",
    "        self.encoder.add(keras.layers.Flatten())\n",
    "        self.encoder.add(dense(1024, name=\"eL1\"))\n",
    "        self.encoder.add(keras.layers.ReLU())\n",
    "        self.encoder.add(dense(1024, name=\"eL2\"))\n",
    "        self.encoder.add(keras.layers.ReLU())\n",
    "        self.encoder.add(dense(latent_num, name=\"encoded\"))\n",
    "\n",
    "        # decoder\n",
    "        self.decoder = keras.models.Sequential(name=\"decoder_net\")\n",
    "        self.decoder.add(keras.layers.Input(shape=(latent_num,)))\n",
    "        self.decoder.add(dense(1024, name=\"dL1\"))\n",
    "        self.decoder.add(keras.layers.ReLU())\n",
    "        self.decoder.add(dense(1024,  name=\"dL2\"))\n",
    "        self.decoder.add(keras.layers.ReLU())\n",
    "        self.decoder.add(dense(28*28,activation=\"tanh\", name=\"decoded\"))\n",
    "        self.decoder.add(keras.layers.Reshape((28, 28), name=\"unflattened_decoded\"))\n",
    "\n",
    "        # discriminator \n",
    "        self.discriminator = keras.models.Sequential(name=\"discriminator_net\")\n",
    "        self.discriminator.add(keras.layers.Input(shape=(latent_num + 11,)))\n",
    "        self.discriminator.add(dense(1024, name=\"aL1\"))\n",
    "        self.discriminator.add(keras.layers.ReLU())\n",
    "        self.discriminator.add(dense(1024, name=\"aL2\"))\n",
    "        self.discriminator.add(keras.layers.ReLU())\n",
    "        self.discriminator.add(dense(1, activation=\"sigmoid\", name=\"prob\"))\n",
    "\n",
    "        # reconstruction model\n",
    "        img_input = keras.layers.Input(shape=(28, 28))\n",
    "        encoded = self.encoder(img_input)\n",
    "        decoded = self.decoder(encoded)\n",
    "        self.autoencoder_model = keras.models.Model(name=\"autoencoder\",\n",
    "            inputs=img_input, outputs=decoded)\n",
    "        self.autoencoder_model.compile(optimizer=self.autoencoder_optimizer,\n",
    "                                    loss='mse')\n",
    "\n",
    "        # discriminator model\n",
    "        self.discriminator.trainable = True\n",
    "        labels = keras.layers.Input(shape=(11,))\n",
    "        latents = keras.layers.Input(shape=(latent_num,))\n",
    "        labelled_latents = tf.concat((latents, labels), axis=1)\n",
    "        self.discriminator_model = keras.models.Model(name=\"discriminator\",\n",
    "            inputs=[latents, labels], outputs=self.discriminator(labelled_latents))\n",
    "        self.discriminator_model.compile(optimizer=self.discriminator_optimizer,\n",
    "                                    loss='binary_crossentropy')\n",
    "        \n",
    "        # generator model\n",
    "        self.discriminator.trainable = False\n",
    "        generator_labelled_latents = tf.concat((encoded, labels), axis=1)\n",
    "        self.generator_model = keras.models.Model(name=\"generator\",\n",
    "            inputs=[img_input, labels], outputs=self.discriminator(generator_labelled_latents))\n",
    "        self.generator_model.compile(optimizer=self.generator_optimizer,\n",
    "                                loss='binary_crossentropy')\n",
    "        "
   ]
  },
  {
   "cell_type": "markdown",
   "metadata": {
    "colab_type": "text",
    "id": "F3Bto5ZZ3pPI"
   },
   "source": [
    "# Manage scheduling"
   ]
  },
  {
   "cell_type": "code",
   "execution_count": null,
   "metadata": {
    "ExecuteTime": {
     "start_time": "2019-09-16T21:19:18.968Z"
    },
    "colab": {},
    "colab_type": "code",
    "id": "63se06Xj18dA"
   },
   "outputs": [],
   "source": [
    "def Sigma(l1=1.0, l2=1.0, alpha=0.0): \n",
    "    c, s = np.cos(alpha), np.sin(alpha) \n",
    "    rot = np.array([[c, -s],[s, c]])\n",
    "    L = np.eye(2)*[l1, l2]\n",
    "    return np.matmul(rot, np.matmul(L, rot.T)) \n",
    "\n",
    "def SigmaNoise(std, ratio, alpha):\n",
    "    n = 1 if np.isscalar(alpha) else len(alpha)\n",
    "    return np.vstack([rng.multivariate_normal(np.zeros(2), \n",
    "                            Sigma(std, ratio*std, a)) for a in alpha])    \n",
    " \n",
    "def to_gaussian(x, levels=11, s = 2):\n",
    "    grid = np.ones_like(x).reshape(-1, 1)*np.arange(levels).reshape(1, -1)\n",
    "    return np.exp(-0.5*(s**-2)*(grid - np.reshape(x, [-1, 1]))**2)    \n",
    "\n",
    "def scheduling():\n",
    "    img_indices = np.arange(x_train.shape[0])\n",
    "    num_imgs = len(img_indices)\n",
    "    batch_num = num_imgs//batch_size\n",
    "    \n",
    "    def noise(shape):\n",
    "        if gaussian_prior == True:\n",
    "            x = rng.normal(0,1, shape)\n",
    "        else:\n",
    "            x = rng.uniform(-1,1, shape)\n",
    "        return x\n",
    "\n",
    "    def get_test(dim):\n",
    "        x = np.linspace(-test_lim, test_lim, dim)\n",
    "        X, Y = np.meshgrid(x, x)\n",
    "        return np.vstack((X.ravel(), Y.ravel())).T\n",
    "    test_dim = 16\n",
    "    test = get_test(test_dim)\n",
    "\n",
    "    return img_indices, batch_num, test, noise"
   ]
  },
  {
   "cell_type": "code",
   "execution_count": null,
   "metadata": {
    "ExecuteTime": {
     "start_time": "2019-09-16T21:19:18.969Z"
    },
    "colab": {},
    "colab_type": "code",
    "id": "OukJRJaye5xJ"
   },
   "outputs": [],
   "source": [
    "def test_priors():\n",
    "    curr_labels = y_train\n",
    "    angles = 2*np.pi*np.arange(10.0)/10.0\n",
    "    p_means = np.vstack((radius*np.cos(angles), \n",
    "                         radius*np.sin(angles))).T\n",
    "    curr_prior_means = p_means[curr_labels]\n",
    "    curr_angles = angles[curr_labels]\n",
    "    curr_prior_std = prior_std\n",
    "    latents = SigmaNoise(curr_prior_std, ratio, curr_angles) + curr_prior_means\n",
    "\n",
    "\n",
    "    import matplotlib.pyplot as plt\n",
    "    from IPython.display import clear_output, display\n",
    "    import matplotlib.gridspec as gridspec\n",
    "    cols = np.expand_dims(plt.cm.hsv(np.linspace(0, 1, 10)),1)\n",
    "    plt.subplot(111, aspect=\"equal\")\n",
    "    for x in range(10):\n",
    "        plt.scatter(*latents[curr_labels==x].T, s=5,  alpha=0.2, c=cols[x])\n",
    "    plt.xlim([-test_lim*2, test_lim*2])\n",
    "    plt.ylim([-test_lim*2, test_lim*2])\n",
    "    plt.show()"
   ]
  },
  {
   "cell_type": "markdown",
   "metadata": {
    "colab_type": "text",
    "id": "2b60cKeX30bT"
   },
   "source": [
    "# Init plots "
   ]
  },
  {
   "cell_type": "code",
   "execution_count": null,
   "metadata": {
    "ExecuteTime": {
     "start_time": "2019-09-16T21:19:18.997Z"
    },
    "cellView": "both",
    "code_folding": [],
    "colab": {},
    "colab_type": "code",
    "id": "_qDrfy1z3O-R"
   },
   "outputs": [],
   "source": [
    "import matplotlib.pyplot as plt\n",
    "from IPython.display import clear_output, display\n",
    "import matplotlib.gridspec as gridspec\n",
    "from PIL import Image\n",
    "import glob, io\n",
    "\n",
    "class Plotter:\n",
    "    \n",
    "    def init_plots(self):\n",
    "        \n",
    "        self.count = 0\n",
    "\n",
    "        self.fig = plt.figure(figsize=(9,6), constrained_layout=True)\n",
    "        gs = self.fig.add_gridspec(6, 6)\n",
    "\n",
    "        ax1 = self.fig.add_subplot(gs[:3,:])\n",
    "        ax1.set_title(\"Losses\")\n",
    "        ax1.set_ylabel(\"log likeliwood\")\n",
    "        ax1.set_xlabel(\"epocs\")\n",
    "        self.rlossl, = ax1.plot(0,0, c=\"blue\")\n",
    "        self.dlossl, = ax1.plot(0,0, c=\"red\")\n",
    "        self.alossl, = ax1.plot(0,0, c=\"green\")\n",
    "        self.rlossl.set_label(\"rloss\")\n",
    "        self.dlossl.set_label(\"dloss\")\n",
    "        self.alossl.set_label(\"aloss\")\n",
    "        ax1.legend()\n",
    "        ax1.set_xlim([0, num_epochs])\n",
    "        ax1.set_ylim([0, rlim])\n",
    "\n",
    "        ax2 = self.fig.add_subplot(gs[3:,2:4], aspect=\"equal\")\n",
    "        ax2.set_title(\"generated digits\")\n",
    "        ax2.set_ylabel(\"latent unit 1\")\n",
    "        ax2.set_xlabel(\"latent unit 0\")\n",
    "        self.digits = ax2.imshow(np.zeros([2, 2]), vmin=-1, vmax=1)\n",
    "        ax2.set_axis_off()\n",
    "\n",
    "        ax3 = self.fig.add_subplot(gs[3:,4:], aspect=\"equal\")\n",
    "        ax3.set_title(\"Real digits (latent space)\")\n",
    "        ax3.set_ylabel(\"latent unit 1\")\n",
    "        ax3.set_xlabel(\"latent unit 0\")\n",
    "        cols = plt.cm.hsv(np.linspace(0, 1, 10))\n",
    "        self.points = []\n",
    "        self.labels = []\n",
    "        for k in range(10):\n",
    "            self.points.append(ax3.scatter(0,0, color=cols[k], s=5, alpha=0.05))\n",
    "            self.labels.append(ax3.text(0,0,\"%d\"%k, color=cols[k]))\n",
    "        ax3.set_xlim([-2*test_lim, 2*test_lim])\n",
    "        ax3.set_ylim([-2*test_lim, 2*test_lim])\n",
    "    \n",
    "        self.ppoints = []\n",
    "        ax4 = self.fig.add_subplot(gs[3:,:2], aspect=\"equal\")\n",
    "        ax4.set_title(\"Generated prior sample (latent space)\")\n",
    "        ax4.set_ylabel(\"latent unit 1\")\n",
    "        ax4.set_xlabel(\"latent unit 0\")\n",
    "        for k in range(10):\n",
    "            self.ppoints.append(ax4.scatter(0,0, color=cols[k], s=5))   \n",
    "        ax4.set_xlim([-2*test_lim, 2*test_lim])\n",
    "        ax4.set_ylim([-2*test_lim, 2*test_lim])\n",
    "\n",
    "        self.fig.tight_layout()\n",
    "        clear_output()\n",
    "        display(plt.gcf())    \n",
    "\n",
    "    def update_plots(self, epoch, ae,  data):\n",
    "\n",
    "        rloss, dloss, aloss, test = data\n",
    "\n",
    "        test_dim = int(np.sqrt(test.shape[0]))\n",
    "\n",
    "        self.rlossl.set_data(np.arange(epoch+1), np.hstack(rloss)*rlim)\n",
    "        self.dlossl.set_data(np.arange(epoch+1), dloss)\n",
    "        self.alossl.set_data(np.arange(epoch+1), aloss)\n",
    "\n",
    "        test_gen_batch = ae.decoder.predict(test).reshape(test_dim, test_dim, 28,28)\n",
    "        self.digits.set_data(np.vstack([ np.hstack([img for img in test_gen_row])\n",
    "            for test_gen_row in test_gen_batch[::-1]]))\n",
    "\n",
    "        test_latents = ae.encoder.predict(x_train)\n",
    "        for k in range(10):\n",
    "            digit_latents = test_latents[np.where(y_train==k)[0]]\n",
    "            self.points[k].set_offsets(digit_latents)\n",
    "            self.labels[k].set_x(prior_means[k, 0])\n",
    "            self.labels[k].set_y(prior_means[k, 1])\n",
    "        \n",
    "        plabels = other_params.labels\n",
    "        for k in range(10):\n",
    "            platents = other_params.latents[plabels==k,...]\n",
    "            self.ppoints[k].set_offsets(platents)\n",
    "\n",
    "        clear_output()\n",
    "        print(\"epoch: %-10d\\nrloss: %-10.7f  dloss: %-10.7f aloss: %-10.7f\" % (\n",
    "            epoch, rloss[-1], dloss[-1], aloss[-1]))\n",
    "        display(plt.gcf())\n",
    "\n",
    "        self.fig.savefig(\"/tmp/imgs/aae-%06d.png\"%self.count)\n",
    "        self.count += 1\n",
    "\n",
    "        \n",
    "        # Open all the frames\n",
    "        image_names = sorted(glob.glob(\"/tmp/imgs/aae*.png\"))\n",
    "        \n",
    "        if len(image_names) > 1:\n",
    "            images = []\n",
    "\n",
    "            #load frames into a list\n",
    "            for img_name in image_names:\n",
    "                with open(img_name, \"rb\") as f:\n",
    "                    frame = Image.open(io.BytesIO(f.read()))\n",
    "                images.append(frame)\n",
    "            \n",
    "            #save frames as an animated GIF\n",
    "            images[0].save('aae.gif',\n",
    "                    save_all=True,\n",
    "                    append_images=images[1:],\n",
    "                    duration=500,\n",
    "                    loop=0)\n",
    "plotter = Plotter()"
   ]
  },
  {
   "cell_type": "markdown",
   "metadata": {
    "colab_type": "text",
    "id": "RJYW6gn64KRE"
   },
   "source": [
    "# Train"
   ]
  },
  {
   "cell_type": "code",
   "execution_count": null,
   "metadata": {
    "ExecuteTime": {
     "start_time": "2019-09-16T21:19:19.024Z"
    },
    "colab": {},
    "colab_type": "code",
    "id": "Zj3ATQIfICsN"
   },
   "outputs": [],
   "source": [
    "from keras.utils.np_utils import to_categorical   \n",
    "to_bins = to_categorical\n",
    "\n",
    "def run(prior_means):\n",
    "\n",
    "    ae = Autoencoder(latent_num, dropout, w_stddev, \n",
    "                    autoencoder_rl, discriminator_rl, generator_rl)\n",
    "\n",
    "    plotter.init_plots()\n",
    "    img_indices, batch_num, test, noise = scheduling()\n",
    "\n",
    "    discr_batch_size = int(np.ceil(batch_size*batch_props[1]))\n",
    "    gen_batch_size = int(np.ceil(batch_size*batch_props[2]))\n",
    "    ae_batch_size = batch_size - (discr_batch_size + gen_batch_size)\n",
    "    discr_batch_start = ae_batch_size\n",
    "    gen_batch_start = discr_batch_start + discr_batch_size\n",
    "    \n",
    "    rloss = []\n",
    "    dloss = []\n",
    "    aloss = []\n",
    "    for epoch in range(num_epochs):\n",
    "        rng.shuffle(img_indices)\n",
    "        train_imgs = x_train[img_indices,...]\n",
    "        train_labels = y_train[img_indices]\n",
    "        epoch_rloss = [] \n",
    "        epoch_dloss = [] \n",
    "        epoch_aloss = [] \n",
    "\n",
    "        for batch in range(batch_num):\n",
    "            \n",
    "            curr_rloss, curr_aloss, curr_dloss = [0, 0, 0]\n",
    "\n",
    "            real_images = train_imgs[batch*batch_size:(batch + 1)*batch_size]\n",
    "            real_labels = train_labels[batch*batch_size:(batch + 1)*batch_size]\n",
    "                    \n",
    "            autoencoder_images = real_images[:ae_batch_size]\n",
    "            autoencoder_noise = ae_noise*rng.randn(*autoencoder_images.shape)\n",
    "            curr_rloss = ae.autoencoder_model.train_on_batch(\n",
    "                    autoencoder_images + autoencoder_noise,\n",
    "                    autoencoder_images)\n",
    "            \n",
    "            #-----------------------\n",
    "            #ae.discriminator.trainable = True\n",
    "            adversarial_labels = real_labels[discr_batch_start:(discr_batch_start + discr_batch_size)]\n",
    "            adversarial_images = real_images[discr_batch_start:(discr_batch_start + discr_batch_size)] \n",
    "            adversarial_latents = ae.encoder.predict(adversarial_images)\n",
    "            adversarial_bins = to_bins(adversarial_labels, 11)         \n",
    "            #-----------------------\n",
    "            current_radius = radius\n",
    "            angles = 2*np.pi*np.arange(10.0)/10.0\n",
    "            prior_means *= 0; prior_means += np.vstack((current_radius*np.cos(angles), current_radius*np.sin(angles))).T\n",
    "            prior_labels = np.random.randint(0, 10, adversarial_labels.shape)\n",
    "            curr_prior_means = prior_means[prior_labels]\n",
    "            curr_angles = angles[prior_labels]\n",
    "            curr_prior_std = prior_std   \n",
    "            curr_ratio = ratio \n",
    "            discriminator_latents = SigmaNoise(curr_prior_std, curr_ratio, curr_angles) + curr_prior_means\n",
    "            discriminator_bins =  to_bins(prior_labels, 11)\n",
    "            other_params.latents = discriminator_latents\n",
    "            other_params.labels = prior_labels\n",
    "            #-----------------------\n",
    "            curr_dloss = ae.discriminator_model.train_on_batch(\n",
    "                   [np.vstack([discriminator_latents, adversarial_latents]), \n",
    "                    np.vstack([discriminator_bins, adversarial_bins])],\n",
    "                    np.hstack([np.ones(discr_batch_size), np.zeros(discr_batch_size)]))\n",
    "            \n",
    "            #ae.discriminator.trainable = False\n",
    "            generator_labels = real_labels[gen_batch_start:(gen_batch_start + gen_batch_size)]\n",
    "            generator_images = real_images[gen_batch_start:(gen_batch_start + gen_batch_size)] \n",
    "            generator_bins = to_bins(generator_labels, 11)\n",
    "            curr_aloss = ae.generator_model.train_on_batch(\n",
    "                [generator_images, generator_bins], \n",
    "                np.ones(gen_batch_size))\n",
    "            \n",
    "            epoch_rloss.append(curr_rloss)\n",
    "            epoch_dloss.append(curr_dloss)\n",
    "            epoch_aloss.append(curr_aloss)\n",
    "            \n",
    "        rloss.append(np.mean(epoch_rloss))\n",
    "        dloss.append(np.mean(epoch_dloss))\n",
    "        aloss.append(np.mean(epoch_aloss))\n",
    "        \n",
    "        if epoch%epochs_to_show == 0:    \n",
    "            plotter.update_plots(epoch, ae, [rloss, dloss, aloss, test])\n",
    "            print('epochs: ', end='')            \n",
    "        print(epoch, ' ', end='')\n",
    "    \n",
    "    plotter.update_plots(epoch, ae, [rloss, dloss, aloss, test])"
   ]
  },
  {
   "cell_type": "markdown",
   "metadata": {
    "colab_type": "text",
    "id": "QiXOVcB5v1FQ"
   },
   "source": [
    "# Session"
   ]
  },
  {
   "cell_type": "code",
   "execution_count": null,
   "metadata": {
    "ExecuteTime": {
     "start_time": "2019-09-16T21:19:19.053Z"
    },
    "cellView": "both",
    "colab": {
     "base_uri": "https://localhost:8080/",
     "height": 309
    },
    "colab_type": "code",
    "id": "hTwzGx1c2NdY",
    "outputId": "86cf1d5f-767e-43d0-c3c5-581022eb4c2a"
   },
   "outputs": [
    {
     "name": "stdout",
     "output_type": "stream",
     "text": [
      "\n",
      "dropout: 0.2\n",
      "ae_noise: 0.0\n",
      "latent_num: 2\n",
      "w_stddev: 0.02\n",
      "autoencoder_rl: 2e-04\n",
      "discriminator_rl: 2e-04\n",
      "generator_rl: 2e-04\n",
      "\n",
      "num_epochs: 400  \n",
      "batch_size: 150\n",
      "batch_props: [0.33, 0.33, 0.33]\n",
      "epochs_to_show: 2\n",
      "gaussian_prior: True\n",
      "prior_std: 1.2000\n",
      "\n"
     ]
    }
   ],
   "source": [
    "dropout = 0.2\n",
    "ae_noise = 0.0\n",
    "latent_num = 2\n",
    "w_stddev = 0.02\n",
    "autoencoder_rl = 2e-4\n",
    "discriminator_rl = 2e-4\n",
    "generator_rl = 2e-4\n",
    "\n",
    "num_epochs  = 400\n",
    "batch_size = 150\n",
    "batch_props = [.33, .33, .33]\n",
    "epochs_to_show = 2\n",
    "gaussian_prior = True\n",
    "# prior_std = 1.2\n",
    "# ratio = 1./50\n",
    "prior_std = 1.2\n",
    "ratio = 1/90\n",
    "radius = 4\n",
    "prior_means = np.zeros([10, 2])\n",
    "\n",
    "class other_params: pass\n",
    "\n",
    "rlim = 2.5\n",
    "test_lim = 5\n",
    "\n",
    "print(\"\"\"\n",
    "dropout: {:}\n",
    "ae_noise: {:}\n",
    "latent_num: {:}\n",
    "w_stddev: {:}\n",
    "autoencoder_rl: {:2.0e}\n",
    "discriminator_rl: {:2.0e}\n",
    "generator_rl: {:2.0e}\n",
    "\n",
    "num_epochs: {:}  \n",
    "batch_size: {:}\n",
    "batch_props: {:}\n",
    "epochs_to_show: {:}\n",
    "gaussian_prior: {:}\n",
    "prior_std: {:6.4f}\n",
    "\"\"\".format(dropout, ae_noise, latent_num, w_stddev,\n",
    "    autoencoder_rl, discriminator_rl, generator_rl, num_epochs,  batch_size,\n",
    "    batch_props,  epochs_to_show,  gaussian_prior, prior_std))"
   ]
  },
  {
   "cell_type": "code",
   "execution_count": null,
   "metadata": {
    "ExecuteTime": {
     "start_time": "2019-09-16T21:19:19.056Z"
    },
    "colab": {
     "base_uri": "https://localhost:8080/",
     "height": 269
    },
    "colab_type": "code",
    "id": "GtHrBYIDiHDL",
    "outputId": "bf6ecf76-9507-41f0-f61b-cb0bb984a98a",
    "scrolled": true
   },
   "outputs": [
    {
     "data": {
      "image/png": "[encoded data removed]",
      "text/plain": [
       "<Figure size 432x288 with 1 Axes>"
      ]
     },
     "metadata": {
      "needs_background": "light"
     },
     "output_type": "display_data"
    }
   ],
   "source": [
    "test_priors()"
   ]
  },
  {
   "cell_type": "code",
   "execution_count": null,
   "metadata": {
    "ExecuteTime": {
     "start_time": "2019-09-16T21:19:19.059Z"
    },
    "cellView": "both",
    "colab": {
     "base_uri": "https://localhost:8080/",
     "height": 485
    },
    "colab_type": "code",
    "id": "ZiBjHali3ubp",
    "outputId": "35107fd9-5e9e-4243-d861-1845fae045cc"
   },
   "outputs": [
    {
     "name": "stdout",
     "output_type": "stream",
     "text": [
      "epoch: 110       \n",
      "rloss: 0.1674976   dloss: 0.5880045  aloss: 1.3281832 \n"
     ]
    },
    {
     "data": {
      "image/png": "[encoded data removed]",
      "text/plain": [
       "<Figure size 648x432 with 4 Axes>"
      ]
     },
     "metadata": {},
     "output_type": "display_data"
    },
    {
     "name": "stdout",
     "output_type": "stream",
     "text": [
      "epochs: 110  111  "
     ]
    }
   ],
   "source": [
    "run(prior_means)"
   ]
  }
 ],
 "metadata": {
  "accelerator": "GPU",
  "colab": {
   "collapsed_sections": [],
   "include_colab_link": true,
   "name": "AAE_labelled.ipynb",
   "provenance": [],
   "version": "0.3.2"
  },
  "kernelspec": {
   "display_name": "Python 3",
   "language": "python",
   "name": "python3"
  },
  "language_info": {
   "codemirror_mode": {
    "name": "ipython",
    "version": 3
   },
   "file_extension": ".py",
   "mimetype": "text/x-python",
   "name": "python",
   "nbconvert_exporter": "python",
   "pygments_lexer": "ipython3",
   "version": "3.5.2"
  },
  "latex_envs": {
   "LaTeX_envs_menu_present": true,
   "autoclose": false,
   "autocomplete": true,
   "bibliofile": "biblio.bib",
   "cite_by": "apalike",
   "current_citInitial": 1,
   "eqLabelWithNumbers": true,
   "eqNumInitial": 1,
   "hotkeys": {
    "equation": "Ctrl-E",
    "itemize": "Ctrl-I"
   },
   "labels_anchors": false,
   "latex_user_defs": false,
   "report_style_numbering": false,
   "user_envs_cfg": false
  },
  "toc": {
   "nav_menu": {},
   "number_sections": true,
   "sideBar": true,
   "skip_h1_title": false,
   "title_cell": "Table of Contents",
   "title_sidebar": "Contents",
   "toc_cell": false,
   "toc_position": {},
   "toc_section_display": true,
   "toc_window_display": false
  },
  "widgets": {
   "application/vnd.jupyter.widget-state+json": {
    "state": {},
    "version_major": 2,
    "version_minor": 0
   }
  }
 },
 "nbformat": 4,
 "nbformat_minor": 2
}
